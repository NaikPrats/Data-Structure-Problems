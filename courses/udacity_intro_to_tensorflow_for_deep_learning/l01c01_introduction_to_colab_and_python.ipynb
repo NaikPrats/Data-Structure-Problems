{
  "cells": [
    {
      "cell_type": "markdown",
      "source": [
        "Question:\n",
        "You are given a dataset of vehicle telemetry logs. Each row corresponds to one minute of data and includes features such as:\n",
        "\n",
        "speed (km/h)\n",
        "\n",
        "engine_rpm\n",
        "\n",
        "acceleration\n",
        "\n",
        "brake_pressure\n",
        "\n",
        "steering_angle\n",
        "\n",
        "Each row is labeled as one of three driving states:\n",
        "\n",
        "Normal driving\n",
        "\n",
        "Aggressive driving\n",
        "\n",
        "System anomaly\n",
        "\n",
        "Write Python code to:\n",
        "\n",
        "Load and preprocess the dataset (handle missing values, normalize features if needed).\n",
        "\n",
        "Split the dataset into training and test sets.\n",
        "\n",
        "Train a simple classification model (e.g., Logistic Regression, Random Forest, or Gradient Boosting).\n",
        "\n",
        "Evaluate the model with accuracy and confusion matrix.\n",
        "\n",
        "Demonstrate how you would predict the driving state for new incoming telemetry data in real time."
      ],
      "metadata": {
        "id": "KtW6Jki3xPag"
      }
    },
    {
      "cell_type": "markdown",
      "source": [
        "# 0) Setup & Imports"
      ],
      "metadata": {
        "id": "Crujp8WDBAzY"
      }
    },
    {
      "cell_type": "code",
      "source": [
        "import numpy as np\n",
        "import pandas as pd\n",
        "import matplotlib.pyplot as plt\n",
        "from collections import Counter\n",
        "\n",
        "from sklearn.model_selection import train_test_split\n",
        "from sklearn.preprocessing import StandardScaler, OneHotEncoder\n",
        "from sklearn.compose import ColumnTransformer\n",
        "from sklearn.pipeline import Pipeline\n",
        "from sklearn.impute import SimpleImputer\n",
        "from sklearn.metrics import accuracy_score, classification_report, confusion_matrix\n",
        "from sklearn.linear_model import LogisticRegression\n",
        "from sklearn.ensemble import RandomForestClassifier\n",
        "\n",
        "import itertools, joblib\n",
        "np.random.seed(42)\n"
      ],
      "metadata": {
        "id": "5WgcVFufxTq1"
      },
      "execution_count": 2,
      "outputs": []
    },
    {
      "cell_type": "markdown",
      "source": [
        "# 1) Create TWO tables and JOIN them"
      ],
      "metadata": {
        "id": "XYPdaYcDBGQ2"
      }
    },
    {
      "cell_type": "code",
      "source": [
        "# --- Table A: telemetry-level rows (multiple rows per vehicle) ---\n",
        "n_rows = 500\n",
        "vehicle_ids = np.random.choice([101,102,103,104,105,106], size=n_rows, p=[.15,.2,.2,.2,.15,.1])\n",
        "\n",
        "df_telemetry = pd.DataFrame({\n",
        "    \"vehicle_id\": vehicle_ids,\n",
        "    \"speed\": np.random.randint(0, 150, n_rows),\n",
        "    \"engine_rpm\": np.random.randint(600, 6500, n_rows),\n",
        "    \"acceleration\": np.random.uniform(-3.5, 3.5, n_rows),\n",
        "    \"brake_pressure\": np.random.uniform(0, 1, n_rows),\n",
        "    \"steering_angle\": np.random.uniform(-50, 50, n_rows)\n",
        "})\n",
        "\n",
        "# Introduce a few missing values to simulate reality\n",
        "for col in [\"acceleration\", \"brake_pressure\"]:\n",
        "    mask = np.random.rand(n_rows) < 0.03\n",
        "    df_telemetry.loc[mask, col] = np.nan\n",
        "\n",
        "# --- Table B: driver-level metadata (one row per vehicle_id, some vehicles missing) ---\n",
        "df_drivers = pd.DataFrame({\n",
        "    \"vehicle_id\": [101,102,103,104,106],  # 105 missing on purpose\n",
        "    \"driver_name\": [\"Alice\",\"Bob\",\"Charlie\",\"Dana\",\"Ed\"],\n",
        "    \"age\": [35, 42, 29, 51, 38],\n",
        "    \"region\": [\"West\",\"East\",\"West\",\"Central\",\"East\"]\n",
        "})\n",
        "\n",
        "# --- JOIN: enrich telemetry with driver info ---\n",
        "df = pd.merge(df_telemetry, df_drivers, on=\"vehicle_id\", how=\"left\")\n",
        "df.head()\n"
      ],
      "metadata": {
        "colab": {
          "base_uri": "https://localhost:8080/",
          "height": 206
        },
        "id": "-pZEXA3hxPNi",
        "outputId": "f162e152-37d1-4772-d8c3-a50c2d8458a3"
      },
      "execution_count": 3,
      "outputs": [
        {
          "output_type": "execute_result",
          "data": {
            "text/plain": [
              "   vehicle_id  speed  engine_rpm  acceleration  brake_pressure  \\\n",
              "0         103    144        5091      3.272579        0.680975   \n",
              "1         106    140        2155     -2.201788             NaN   \n",
              "2         104     45        1404     -0.265319        0.618948   \n",
              "3         104     34        5629     -3.491377        0.323500   \n",
              "4         102    133        1879      0.688291        0.834303   \n",
              "\n",
              "   steering_angle driver_name   age   region  \n",
              "0       -1.162537     Charlie  29.0     West  \n",
              "1       23.756575          Ed  38.0     East  \n",
              "2        2.523976        Dana  51.0  Central  \n",
              "3      -46.735432        Dana  51.0  Central  \n",
              "4       36.855151         Bob  42.0     East  "
            ],
            "text/html": [
              "\n",
              "  <div id=\"df-c8e4c321-645a-4558-872f-da9969206aab\" class=\"colab-df-container\">\n",
              "    <div>\n",
              "<style scoped>\n",
              "    .dataframe tbody tr th:only-of-type {\n",
              "        vertical-align: middle;\n",
              "    }\n",
              "\n",
              "    .dataframe tbody tr th {\n",
              "        vertical-align: top;\n",
              "    }\n",
              "\n",
              "    .dataframe thead th {\n",
              "        text-align: right;\n",
              "    }\n",
              "</style>\n",
              "<table border=\"1\" class=\"dataframe\">\n",
              "  <thead>\n",
              "    <tr style=\"text-align: right;\">\n",
              "      <th></th>\n",
              "      <th>vehicle_id</th>\n",
              "      <th>speed</th>\n",
              "      <th>engine_rpm</th>\n",
              "      <th>acceleration</th>\n",
              "      <th>brake_pressure</th>\n",
              "      <th>steering_angle</th>\n",
              "      <th>driver_name</th>\n",
              "      <th>age</th>\n",
              "      <th>region</th>\n",
              "    </tr>\n",
              "  </thead>\n",
              "  <tbody>\n",
              "    <tr>\n",
              "      <th>0</th>\n",
              "      <td>103</td>\n",
              "      <td>144</td>\n",
              "      <td>5091</td>\n",
              "      <td>3.272579</td>\n",
              "      <td>0.680975</td>\n",
              "      <td>-1.162537</td>\n",
              "      <td>Charlie</td>\n",
              "      <td>29.0</td>\n",
              "      <td>West</td>\n",
              "    </tr>\n",
              "    <tr>\n",
              "      <th>1</th>\n",
              "      <td>106</td>\n",
              "      <td>140</td>\n",
              "      <td>2155</td>\n",
              "      <td>-2.201788</td>\n",
              "      <td>NaN</td>\n",
              "      <td>23.756575</td>\n",
              "      <td>Ed</td>\n",
              "      <td>38.0</td>\n",
              "      <td>East</td>\n",
              "    </tr>\n",
              "    <tr>\n",
              "      <th>2</th>\n",
              "      <td>104</td>\n",
              "      <td>45</td>\n",
              "      <td>1404</td>\n",
              "      <td>-0.265319</td>\n",
              "      <td>0.618948</td>\n",
              "      <td>2.523976</td>\n",
              "      <td>Dana</td>\n",
              "      <td>51.0</td>\n",
              "      <td>Central</td>\n",
              "    </tr>\n",
              "    <tr>\n",
              "      <th>3</th>\n",
              "      <td>104</td>\n",
              "      <td>34</td>\n",
              "      <td>5629</td>\n",
              "      <td>-3.491377</td>\n",
              "      <td>0.323500</td>\n",
              "      <td>-46.735432</td>\n",
              "      <td>Dana</td>\n",
              "      <td>51.0</td>\n",
              "      <td>Central</td>\n",
              "    </tr>\n",
              "    <tr>\n",
              "      <th>4</th>\n",
              "      <td>102</td>\n",
              "      <td>133</td>\n",
              "      <td>1879</td>\n",
              "      <td>0.688291</td>\n",
              "      <td>0.834303</td>\n",
              "      <td>36.855151</td>\n",
              "      <td>Bob</td>\n",
              "      <td>42.0</td>\n",
              "      <td>East</td>\n",
              "    </tr>\n",
              "  </tbody>\n",
              "</table>\n",
              "</div>\n",
              "    <div class=\"colab-df-buttons\">\n",
              "\n",
              "  <div class=\"colab-df-container\">\n",
              "    <button class=\"colab-df-convert\" onclick=\"convertToInteractive('df-c8e4c321-645a-4558-872f-da9969206aab')\"\n",
              "            title=\"Convert this dataframe to an interactive table.\"\n",
              "            style=\"display:none;\">\n",
              "\n",
              "  <svg xmlns=\"http://www.w3.org/2000/svg\" height=\"24px\" viewBox=\"0 -960 960 960\">\n",
              "    <path d=\"M120-120v-720h720v720H120Zm60-500h600v-160H180v160Zm220 220h160v-160H400v160Zm0 220h160v-160H400v160ZM180-400h160v-160H180v160Zm440 0h160v-160H620v160ZM180-180h160v-160H180v160Zm440 0h160v-160H620v160Z\"/>\n",
              "  </svg>\n",
              "    </button>\n",
              "\n",
              "  <style>\n",
              "    .colab-df-container {\n",
              "      display:flex;\n",
              "      gap: 12px;\n",
              "    }\n",
              "\n",
              "    .colab-df-convert {\n",
              "      background-color: #E8F0FE;\n",
              "      border: none;\n",
              "      border-radius: 50%;\n",
              "      cursor: pointer;\n",
              "      display: none;\n",
              "      fill: #1967D2;\n",
              "      height: 32px;\n",
              "      padding: 0 0 0 0;\n",
              "      width: 32px;\n",
              "    }\n",
              "\n",
              "    .colab-df-convert:hover {\n",
              "      background-color: #E2EBFA;\n",
              "      box-shadow: 0px 1px 2px rgba(60, 64, 67, 0.3), 0px 1px 3px 1px rgba(60, 64, 67, 0.15);\n",
              "      fill: #174EA6;\n",
              "    }\n",
              "\n",
              "    .colab-df-buttons div {\n",
              "      margin-bottom: 4px;\n",
              "    }\n",
              "\n",
              "    [theme=dark] .colab-df-convert {\n",
              "      background-color: #3B4455;\n",
              "      fill: #D2E3FC;\n",
              "    }\n",
              "\n",
              "    [theme=dark] .colab-df-convert:hover {\n",
              "      background-color: #434B5C;\n",
              "      box-shadow: 0px 1px 3px 1px rgba(0, 0, 0, 0.15);\n",
              "      filter: drop-shadow(0px 1px 2px rgba(0, 0, 0, 0.3));\n",
              "      fill: #FFFFFF;\n",
              "    }\n",
              "  </style>\n",
              "\n",
              "    <script>\n",
              "      const buttonEl =\n",
              "        document.querySelector('#df-c8e4c321-645a-4558-872f-da9969206aab button.colab-df-convert');\n",
              "      buttonEl.style.display =\n",
              "        google.colab.kernel.accessAllowed ? 'block' : 'none';\n",
              "\n",
              "      async function convertToInteractive(key) {\n",
              "        const element = document.querySelector('#df-c8e4c321-645a-4558-872f-da9969206aab');\n",
              "        const dataTable =\n",
              "          await google.colab.kernel.invokeFunction('convertToInteractive',\n",
              "                                                    [key], {});\n",
              "        if (!dataTable) return;\n",
              "\n",
              "        const docLinkHtml = 'Like what you see? Visit the ' +\n",
              "          '<a target=\"_blank\" href=https://colab.research.google.com/notebooks/data_table.ipynb>data table notebook</a>'\n",
              "          + ' to learn more about interactive tables.';\n",
              "        element.innerHTML = '';\n",
              "        dataTable['output_type'] = 'display_data';\n",
              "        await google.colab.output.renderOutput(dataTable, element);\n",
              "        const docLink = document.createElement('div');\n",
              "        docLink.innerHTML = docLinkHtml;\n",
              "        element.appendChild(docLink);\n",
              "      }\n",
              "    </script>\n",
              "  </div>\n",
              "\n",
              "\n",
              "    <div id=\"df-f412441e-7c52-447c-9788-6662542cd141\">\n",
              "      <button class=\"colab-df-quickchart\" onclick=\"quickchart('df-f412441e-7c52-447c-9788-6662542cd141')\"\n",
              "                title=\"Suggest charts\"\n",
              "                style=\"display:none;\">\n",
              "\n",
              "<svg xmlns=\"http://www.w3.org/2000/svg\" height=\"24px\"viewBox=\"0 0 24 24\"\n",
              "     width=\"24px\">\n",
              "    <g>\n",
              "        <path d=\"M19 3H5c-1.1 0-2 .9-2 2v14c0 1.1.9 2 2 2h14c1.1 0 2-.9 2-2V5c0-1.1-.9-2-2-2zM9 17H7v-7h2v7zm4 0h-2V7h2v10zm4 0h-2v-4h2v4z\"/>\n",
              "    </g>\n",
              "</svg>\n",
              "      </button>\n",
              "\n",
              "<style>\n",
              "  .colab-df-quickchart {\n",
              "      --bg-color: #E8F0FE;\n",
              "      --fill-color: #1967D2;\n",
              "      --hover-bg-color: #E2EBFA;\n",
              "      --hover-fill-color: #174EA6;\n",
              "      --disabled-fill-color: #AAA;\n",
              "      --disabled-bg-color: #DDD;\n",
              "  }\n",
              "\n",
              "  [theme=dark] .colab-df-quickchart {\n",
              "      --bg-color: #3B4455;\n",
              "      --fill-color: #D2E3FC;\n",
              "      --hover-bg-color: #434B5C;\n",
              "      --hover-fill-color: #FFFFFF;\n",
              "      --disabled-bg-color: #3B4455;\n",
              "      --disabled-fill-color: #666;\n",
              "  }\n",
              "\n",
              "  .colab-df-quickchart {\n",
              "    background-color: var(--bg-color);\n",
              "    border: none;\n",
              "    border-radius: 50%;\n",
              "    cursor: pointer;\n",
              "    display: none;\n",
              "    fill: var(--fill-color);\n",
              "    height: 32px;\n",
              "    padding: 0;\n",
              "    width: 32px;\n",
              "  }\n",
              "\n",
              "  .colab-df-quickchart:hover {\n",
              "    background-color: var(--hover-bg-color);\n",
              "    box-shadow: 0 1px 2px rgba(60, 64, 67, 0.3), 0 1px 3px 1px rgba(60, 64, 67, 0.15);\n",
              "    fill: var(--button-hover-fill-color);\n",
              "  }\n",
              "\n",
              "  .colab-df-quickchart-complete:disabled,\n",
              "  .colab-df-quickchart-complete:disabled:hover {\n",
              "    background-color: var(--disabled-bg-color);\n",
              "    fill: var(--disabled-fill-color);\n",
              "    box-shadow: none;\n",
              "  }\n",
              "\n",
              "  .colab-df-spinner {\n",
              "    border: 2px solid var(--fill-color);\n",
              "    border-color: transparent;\n",
              "    border-bottom-color: var(--fill-color);\n",
              "    animation:\n",
              "      spin 1s steps(1) infinite;\n",
              "  }\n",
              "\n",
              "  @keyframes spin {\n",
              "    0% {\n",
              "      border-color: transparent;\n",
              "      border-bottom-color: var(--fill-color);\n",
              "      border-left-color: var(--fill-color);\n",
              "    }\n",
              "    20% {\n",
              "      border-color: transparent;\n",
              "      border-left-color: var(--fill-color);\n",
              "      border-top-color: var(--fill-color);\n",
              "    }\n",
              "    30% {\n",
              "      border-color: transparent;\n",
              "      border-left-color: var(--fill-color);\n",
              "      border-top-color: var(--fill-color);\n",
              "      border-right-color: var(--fill-color);\n",
              "    }\n",
              "    40% {\n",
              "      border-color: transparent;\n",
              "      border-right-color: var(--fill-color);\n",
              "      border-top-color: var(--fill-color);\n",
              "    }\n",
              "    60% {\n",
              "      border-color: transparent;\n",
              "      border-right-color: var(--fill-color);\n",
              "    }\n",
              "    80% {\n",
              "      border-color: transparent;\n",
              "      border-right-color: var(--fill-color);\n",
              "      border-bottom-color: var(--fill-color);\n",
              "    }\n",
              "    90% {\n",
              "      border-color: transparent;\n",
              "      border-bottom-color: var(--fill-color);\n",
              "    }\n",
              "  }\n",
              "</style>\n",
              "\n",
              "      <script>\n",
              "        async function quickchart(key) {\n",
              "          const quickchartButtonEl =\n",
              "            document.querySelector('#' + key + ' button');\n",
              "          quickchartButtonEl.disabled = true;  // To prevent multiple clicks.\n",
              "          quickchartButtonEl.classList.add('colab-df-spinner');\n",
              "          try {\n",
              "            const charts = await google.colab.kernel.invokeFunction(\n",
              "                'suggestCharts', [key], {});\n",
              "          } catch (error) {\n",
              "            console.error('Error during call to suggestCharts:', error);\n",
              "          }\n",
              "          quickchartButtonEl.classList.remove('colab-df-spinner');\n",
              "          quickchartButtonEl.classList.add('colab-df-quickchart-complete');\n",
              "        }\n",
              "        (() => {\n",
              "          let quickchartButtonEl =\n",
              "            document.querySelector('#df-f412441e-7c52-447c-9788-6662542cd141 button');\n",
              "          quickchartButtonEl.style.display =\n",
              "            google.colab.kernel.accessAllowed ? 'block' : 'none';\n",
              "        })();\n",
              "      </script>\n",
              "    </div>\n",
              "\n",
              "    </div>\n",
              "  </div>\n"
            ],
            "application/vnd.google.colaboratory.intrinsic+json": {
              "type": "dataframe",
              "variable_name": "df",
              "summary": "{\n  \"name\": \"df\",\n  \"rows\": 500,\n  \"fields\": [\n    {\n      \"column\": \"vehicle_id\",\n      \"properties\": {\n        \"dtype\": \"number\",\n        \"std\": 1,\n        \"min\": 101,\n        \"max\": 106,\n        \"num_unique_values\": 6,\n        \"samples\": [\n          103,\n          106,\n          105\n        ],\n        \"semantic_type\": \"\",\n        \"description\": \"\"\n      }\n    },\n    {\n      \"column\": \"speed\",\n      \"properties\": {\n        \"dtype\": \"number\",\n        \"std\": 43,\n        \"min\": 0,\n        \"max\": 149,\n        \"num_unique_values\": 146,\n        \"samples\": [\n          31,\n          126,\n          98\n        ],\n        \"semantic_type\": \"\",\n        \"description\": \"\"\n      }\n    },\n    {\n      \"column\": \"engine_rpm\",\n      \"properties\": {\n        \"dtype\": \"number\",\n        \"std\": 1701,\n        \"min\": 602,\n        \"max\": 6495,\n        \"num_unique_values\": 483,\n        \"samples\": [\n          628,\n          1119,\n          5817\n        ],\n        \"semantic_type\": \"\",\n        \"description\": \"\"\n      }\n    },\n    {\n      \"column\": \"acceleration\",\n      \"properties\": {\n        \"dtype\": \"number\",\n        \"std\": 1.9074756658551293,\n        \"min\": -3.497672457156574,\n        \"max\": 3.468363434929799,\n        \"num_unique_values\": 483,\n        \"samples\": [\n          3.20126021526211,\n          0.17853235378048016,\n          -2.5709974232650583\n        ],\n        \"semantic_type\": \"\",\n        \"description\": \"\"\n      }\n    },\n    {\n      \"column\": \"brake_pressure\",\n      \"properties\": {\n        \"dtype\": \"number\",\n        \"std\": 0.29577677099917615,\n        \"min\": 0.00018839955658189744,\n        \"max\": 0.9970781570816617,\n        \"num_unique_values\": 483,\n        \"samples\": [\n          0.06850540662697957,\n          0.5313165205680591,\n          0.636490651049154\n        ],\n        \"semantic_type\": \"\",\n        \"description\": \"\"\n      }\n    },\n    {\n      \"column\": \"steering_angle\",\n      \"properties\": {\n        \"dtype\": \"number\",\n        \"std\": 28.99484339591154,\n        \"min\": -49.78961568241166,\n        \"max\": 49.9713804155914,\n        \"num_unique_values\": 500,\n        \"samples\": [\n          8.326651781304541,\n          -24.18267458088308,\n          -7.761547781569412\n        ],\n        \"semantic_type\": \"\",\n        \"description\": \"\"\n      }\n    },\n    {\n      \"column\": \"driver_name\",\n      \"properties\": {\n        \"dtype\": \"category\",\n        \"num_unique_values\": 5,\n        \"samples\": [\n          \"Ed\",\n          \"Alice\",\n          \"Dana\"\n        ],\n        \"semantic_type\": \"\",\n        \"description\": \"\"\n      }\n    },\n    {\n      \"column\": \"age\",\n      \"properties\": {\n        \"dtype\": \"number\",\n        \"std\": 7.7698272896721585,\n        \"min\": 29.0,\n        \"max\": 51.0,\n        \"num_unique_values\": 5,\n        \"samples\": [\n          38.0,\n          35.0,\n          51.0\n        ],\n        \"semantic_type\": \"\",\n        \"description\": \"\"\n      }\n    },\n    {\n      \"column\": \"region\",\n      \"properties\": {\n        \"dtype\": \"category\",\n        \"num_unique_values\": 3,\n        \"samples\": [\n          \"West\",\n          \"East\",\n          \"Central\"\n        ],\n        \"semantic_type\": \"\",\n        \"description\": \"\"\n      }\n    }\n  ]\n}"
            }
          },
          "metadata": {},
          "execution_count": 3
        }
      ]
    },
    {
      "cell_type": "code",
      "source": [
        "df.shape"
      ],
      "metadata": {
        "colab": {
          "base_uri": "https://localhost:8080/"
        },
        "id": "d4jMfNNfxcjC",
        "outputId": "0b0b4580-9b8e-4754-e1bc-1ad7bc17b627"
      },
      "execution_count": 4,
      "outputs": [
        {
          "output_type": "execute_result",
          "data": {
            "text/plain": [
              "(500, 9)"
            ]
          },
          "metadata": {},
          "execution_count": 4
        }
      ]
    },
    {
      "cell_type": "markdown",
      "source": [
        "# 2) Create labels (supervised target) + Quick EDA"
      ],
      "metadata": {
        "id": "4TCi3iGv4Vhb"
      }
    },
    {
      "cell_type": "code",
      "source": [
        "# Simple rule-based labels so patterns are learnable\n",
        "def label_row(r):\n",
        "    if (r[\"brake_pressure\"] is not None and pd.notna(r[\"brake_pressure\"]) and r[\"brake_pressure\"] > 0.85 and r[\"speed\"] > 105) \\\n",
        "        or (r[\"engine_rpm\"] > 5800 and r[\"speed\"] > 120):\n",
        "        return \"System anomaly\"\n",
        "    elif (pd.notna(r[\"acceleration\"]) and r[\"acceleration\"] > 2.2) or (abs(r[\"steering_angle\"]) > 32) or (r[\"speed\"] > 130):\n",
        "        return \"Aggressive driving\"\n",
        "    else:\n",
        "        return \"Normal driving\"\n",
        "\n",
        "df[\"label\"] = df.apply(label_row, axis=1)\n",
        "\n",
        "print(\"Shape:\", df.shape)\n",
        "print(\"\\nNulls:\\n\", df.isna().sum())\n",
        "print(\"\\nClass distribution:\\n\", df[\"label\"].value_counts())"
      ],
      "metadata": {
        "colab": {
          "base_uri": "https://localhost:8080/"
        },
        "id": "mg-Gxy6rxPI1",
        "outputId": "0f8de6ca-4bb5-4b07-b3aa-f7dae0b122a6"
      },
      "execution_count": 5,
      "outputs": [
        {
          "output_type": "stream",
          "name": "stdout",
          "text": [
            "Shape: (500, 10)\n",
            "\n",
            "Nulls:\n",
            " vehicle_id         0\n",
            "speed              0\n",
            "engine_rpm         0\n",
            "acceleration      17\n",
            "brake_pressure    17\n",
            "steering_angle     0\n",
            "driver_name       76\n",
            "age               76\n",
            "region            76\n",
            "label              0\n",
            "dtype: int64\n",
            "\n",
            "Class distribution:\n",
            " label\n",
            "Aggressive driving    259\n",
            "Normal driving        216\n",
            "System anomaly         25\n",
            "Name: count, dtype: int64\n"
          ]
        }
      ]
    },
    {
      "cell_type": "markdown",
      "source": [
        "# 3) Define features, split data\n",
        "(# Correct order: Always do train_test_split first, then scale.)"
      ],
      "metadata": {
        "id": "38gn-464BS-a"
      }
    },
    {
      "cell_type": "code",
      "source": [
        "# Feature columns (include joined columns)\n",
        "num_features = [\"speed\",\"engine_rpm\",\"acceleration\",\"brake_pressure\",\"steering_angle\",\"age\"]\n",
        "cat_features = [\"driver_name\",\"region\"]\n",
        "\n",
        "X = df[num_features + cat_features]\n",
        "y = df[\"label\"]\n",
        "\n",
        "X_train, X_test, y_train, y_test = train_test_split(\n",
        "    X, y, test_size=0.25, random_state=42, stratify=y\n",
        ")\n",
        "\n",
        "X_train.shape, X_test.shape"
      ],
      "metadata": {
        "id": "MLXa6j2qA8iP",
        "outputId": "5c6862fd-0f70-40b0-be8c-4b6638d46545",
        "colab": {
          "base_uri": "https://localhost:8080/"
        }
      },
      "execution_count": 6,
      "outputs": [
        {
          "output_type": "execute_result",
          "data": {
            "text/plain": [
              "((375, 8), (125, 8))"
            ]
          },
          "metadata": {},
          "execution_count": 6
        }
      ]
    },
    {
      "cell_type": "markdown",
      "source": [
        "# 4) Preprocessing (impute + scale numeric, impute + one-hot categorical)"
      ],
      "metadata": {
        "id": "1XAKrLm_4PQ-"
      }
    },
    {
      "cell_type": "code",
      "source": [
        "numeric_pipe = Pipeline(steps=[\n",
        "    (\"imputer\", SimpleImputer(strategy=\"median\")),\n",
        "    (\"scaler\", StandardScaler())\n",
        "])\n",
        "\n",
        "categorical_pipe = Pipeline(steps=[\n",
        "    (\"imputer\", SimpleImputer(strategy=\"most_frequent\")),\n",
        "    (\"onehot\", OneHotEncoder(handle_unknown=\"ignore\"))\n",
        "])\n",
        "\n",
        "preprocess = ColumnTransformer(\n",
        "    transformers=[\n",
        "        (\"num\", numeric_pipe, num_features),\n",
        "        (\"cat\", categorical_pipe, cat_features)\n",
        "    ]\n",
        ")"
      ],
      "metadata": {
        "id": "IoiyVEDE4cWh"
      },
      "execution_count": 7,
      "outputs": []
    },
    {
      "cell_type": "markdown",
      "source": [
        "# 5) Models: Logistic Regression & Random Forest"
      ],
      "metadata": {
        "id": "1E-IIZy0KtBh"
      }
    },
    {
      "cell_type": "code",
      "source": [
        "# Logistic Regression (fundamentals)\n",
        "logreg = Pipeline(steps=[\n",
        "    (\"prep\", preprocess),\n",
        "    (\"clf\", LogisticRegression(max_iter=500, class_weight=\"balanced\"))\n",
        "])\n",
        "\n",
        "# Random Forest (strong structured baseline)\n",
        "rf = Pipeline(steps=[\n",
        "    (\"prep\", preprocess),\n",
        "    (\"clf\", RandomForestClassifier(\n",
        "        n_estimators=300, max_depth=None, random_state=42,\n",
        "        class_weight=None  # try \"balanced_subsample\" if classes are skewed\n",
        "    ))\n",
        "])\n",
        "\n",
        "logreg.fit(X_train, y_train)\n",
        "rf.fit(X_train, y_train)\n",
        "\n",
        "y_pred_lr = logreg.predict(X_test)\n",
        "y_pred_rf = rf.predict(X_test)"
      ],
      "metadata": {
        "id": "e5amEVDu4sDz"
      },
      "execution_count": 15,
      "outputs": []
    },
    {
      "cell_type": "code",
      "source": [
        "print(\"LogReg accuracy:\", accuracy_score(y_test, y_pred_lr))\n",
        "print(\"RF     accuracy:\", accuracy_score(y_test, y_pred_rf))\n",
        "\n",
        "print(\"\\nLogReg report:\\n\", classification_report(y_test, y_pred_lr))\n",
        "print(\"\\nRF report:\\n\", classification_report(y_test, y_pred_rf))"
      ],
      "metadata": {
        "colab": {
          "base_uri": "https://localhost:8080/"
        },
        "id": "WCsi5xzI4Rnm",
        "outputId": "9d4a46aa-f461-4609-a59f-58b47fd1a23e"
      },
      "execution_count": 14,
      "outputs": [
        {
          "output_type": "stream",
          "name": "stdout",
          "text": [
            "LogReg accuracy: 0.512\n",
            "RF     accuracy: 0.96\n",
            "\n",
            "LogReg report:\n",
            "                     precision    recall  f1-score   support\n",
            "\n",
            "Aggressive driving       0.58      0.46      0.51        65\n",
            "    Normal driving       0.53      0.57      0.55        54\n",
            "    System anomaly       0.20      0.50      0.29         6\n",
            "\n",
            "          accuracy                           0.51       125\n",
            "         macro avg       0.44      0.51      0.45       125\n",
            "      weighted avg       0.54      0.51      0.52       125\n",
            "\n",
            "\n",
            "RF report:\n",
            "                     precision    recall  f1-score   support\n",
            "\n",
            "Aggressive driving       0.93      1.00      0.96        65\n",
            "    Normal driving       1.00      0.98      0.99        54\n",
            "    System anomaly       1.00      0.33      0.50         6\n",
            "\n",
            "          accuracy                           0.96       125\n",
            "         macro avg       0.98      0.77      0.82       125\n",
            "      weighted avg       0.96      0.96      0.95       125\n",
            "\n"
          ]
        }
      ]
    }
  ],
  "metadata": {
    "colab": {
      "name": "l01c01_introduction_to_colab_and_python.ipynb",
      "toc_visible": true,
      "provenance": []
    },
    "kernelspec": {
      "display_name": "Python 3",
      "name": "python3"
    }
  },
  "nbformat": 4,
  "nbformat_minor": 0
}